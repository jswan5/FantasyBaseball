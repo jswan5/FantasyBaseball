{
 "cells": [
  {
   "cell_type": "code",
   "execution_count": 2,
   "id": "4090a175-411f-4643-bce8-9119f1cbb150",
   "metadata": {},
   "outputs": [],
   "source": [
    "import pandas as pd\n",
    "import pybaseball as pb\n",
    "import matplotlib.pyplot as plt\n",
    "import statsmodels.api as sm"
   ]
  },
  {
   "cell_type": "markdown",
   "id": "a1f789f0-7ca5-4c6a-8e3b-69dd2bee427e",
   "metadata": {},
   "source": [
    "## Introduction\n",
    "\n",
    "The motivation for this project is entirely due to me being sick of losing at fantasy baseball. For years I routinely have the strongest regular season team, only to fizzle out in the playoffs. Since COVID began, I've been hit especially hard by players sitting out.\n",
    "\n",
    "Hopefully a data-driven approach (and a league of managers who probably won't look much deeper than Yahoo's top-level stats) will help me find some sleepers and finally get ahead"
   ]
  },
  {
   "cell_type": "markdown",
   "id": "a9c549e6-3c9d-41c0-a0e3-49f93c85fb7f",
   "metadata": {},
   "source": [
    "#### Data\n",
    "Utilizing the *pybaseball* library, I'll pull the data from the previous season and use the stats (combined with the scoring settisn from our league) to ensure that it lines up with the final results from the previous season. This is a simple step, though not trivial, because if I don't do this and it turns out I'm wrong, and Yahoo has different data than MLB, then this'll never work. I'll create a new field that has the calculated Fantasy Points from Yahoo."
   ]
  },
  {
   "cell_type": "code",
   "execution_count": 12,
   "id": "6e948d78-202e-4730-aa7e-ce73ff40822c",
   "metadata": {},
   "outputs": [],
   "source": [
    "# Pull pybaseball data (min 10 PAs) from 2021 season\n",
    "batters = pd.DataFrame(pb.batting_stats(2021,qual=10))\n",
    "\n",
    "# Calculate fantasy points based on stats, verify it matches Yahoo (it does)\n",
    "batters[\"Points\"] = (batters[\"R\"]*2 +\n",
    "                    batters[\"H\"]*1 +\n",
    "                    batters[\"2B\"]*1 +\n",
    "                    batters[\"3B\"]*2 +\n",
    "                    batters[\"HR\"]*3 +\n",
    "                    batters[\"RBI\"]*2 +\n",
    "                    batters[\"SB\"]*1 +\n",
    "                    batters[\"CS\"]*-1 +\n",
    "                    batters[\"BB\"]*1 +\n",
    "                    batters[\"IBB\"]*1 +\n",
    "                    batters[\"HBP\"]*1 +\n",
    "                    batters[\"SO\"]*-0.5)"
   ]
  },
  {
   "cell_type": "markdown",
   "id": "fd4f4a1a-9162-48ac-afe0-35370d2bcf61",
   "metadata": {},
   "source": [
    "#### Correlations\n",
    "Next I'll see which variables available from MLB correlate the most with these Fantasy Points. Because I know *exactly* which variables Yahoo uses to calculate our Fantasy Points, I expect that they'll be included here. Certainly they'll give me a problem with regression later, but we'll cross that bridge when we get to it. From these correlations, I've taken the top 30 positively correlated stats (as they all had very high *r* values) and the top 10 negatively correlated. They'll probably fall out in regression selection later if they're no good."
   ]
  },
  {
   "cell_type": "code",
   "execution_count": 42,
   "id": "1bb120f2-5505-4fd7-9ab3-decb1e904ff8",
   "metadata": {},
   "outputs": [],
   "source": [
    "# Calculate the stats that most highly correlate with Fantasy Points, drop NaNs\n",
    "corrs = batters.corr().Points\n",
    "corrs.dropna(inplace=True)\n",
    "corrs = corrs.sort_values(ascending=False)\n",
    "top_pos = corrs.head(30)\n",
    "bot_pos = corrs.tail(10)\n",
    "variables = list(top_pos.head(30).index) + list(bot_pos.head(10).index)\n",
    "\n",
    "# Some of these are mostly NaNs, so we'll drop those columns\n",
    "to_remove = [\"Points\",\n",
    "             \"SB-X (pi)\",\n",
    "            \"wSB/C (pi)\",\n",
    "            \"KN% (pi)\",\n",
    "            \"KN%\",\n",
    "            \"XX% (pi)\",\n",
    "            \"KN% (sc)\",\n",
    "            \"CS% (pi)\",\n",
    "            \"vSB (pi)\",\n",
    "            \"SB% (pi)\"]\n",
    "\n",
    "reg_variables = []\n",
    "for par in variables:\n",
    "    if par not in to_remove:\n",
    "        reg_variables.append(par)"
   ]
  },
  {
   "cell_type": "markdown",
   "id": "5100db53-4592-4525-92a5-264fd4fee8bf",
   "metadata": {},
   "source": [
    "As it turned out, several of the fields were nearly full of NaNs (some knuckleballer stats and others that only a handful of players had numbers for) and had to be manually removed. 30 variables remained entering regression."
   ]
  },
  {
   "cell_type": "markdown",
   "id": "a15daec7-38b0-4796-98fb-8ce529669364",
   "metadata": {},
   "source": [
    "#### Regression\n",
    "As I know exactly how Fantasy Points are calculated, there really isn't much mystery here, as there will be no error term and $R^2_{adj} = 1$. I may drop some of the variables that are directly used to calculate the Fantasy Points, but first let's see what it looks like with them in. Then it will be repeatedly removing variables and checking fits. I prefer this to any automated form of regression selection for this process, as my baseball knowledge can (hopefully) have some input on what's worth keeping and what's worth rejecting."
   ]
  },
  {
   "cell_type": "code",
   "execution_count": 32,
   "id": "18f30494-0fe8-4227-9c21-4a5b9b881e96",
   "metadata": {},
   "outputs": [
    {
     "name": "stdout",
     "output_type": "stream",
     "text": [
      "                                 OLS Regression Results                                \n",
      "=======================================================================================\n",
      "Dep. Variable:                 Points   R-squared (uncentered):                   1.000\n",
      "Model:                            OLS   Adj. R-squared (uncentered):              1.000\n",
      "Method:                 Least Squares   F-statistic:                          2.025e+05\n",
      "Date:                Thu, 16 Dec 2021   Prob (F-statistic):                        0.00\n",
      "Time:                        23:03:25   Log-Likelihood:                         -1897.1\n",
      "No. Observations:                 732   AIC:                                      3852.\n",
      "Df Residuals:                     703   BIC:                                      3986.\n",
      "Df Model:                          29                                                  \n",
      "Covariance Type:            nonrobust                                                  \n",
      "==============================================================================\n",
      "                 coef    std err          t      P>|t|      [0.025      0.975]\n",
      "------------------------------------------------------------------------------\n",
      "wRC           -2.2395      0.226     -9.888      0.000      -2.684      -1.795\n",
      "R              2.1729      0.028     77.825      0.000       2.118       2.228\n",
      "+WPA           1.0044      0.236      4.248      0.000       0.540       1.469\n",
      "RBI            1.9091      0.027     71.421      0.000       1.857       1.962\n",
      "HardHit       -0.0138      0.014     -0.981      0.327      -0.041       0.014\n",
      "H              6.0563      0.310     19.507      0.000       5.447       6.666\n",
      "PA             1.7238      0.177      9.733      0.000       1.376       2.072\n",
      "Rep            3.8892      4.295      0.906      0.365      -4.543      12.321\n",
      "Pitches        0.0007      0.002      0.419      0.675      -0.003       0.004\n",
      "AB            -0.1028      0.077     -1.326      0.185      -0.255       0.049\n",
      "Strikes       -0.0038      0.004     -0.898      0.369      -0.012       0.004\n",
      "Balls          0.0045      0.004      1.012      0.312      -0.004       0.013\n",
      "Events        -1.8178      0.129    -14.097      0.000      -2.071      -1.565\n",
      "FB            -0.1887      0.061     -3.082      0.002      -0.309      -0.069\n",
      "2B            -1.9384      0.134    -14.447      0.000      -2.202      -1.675\n",
      "LD            -0.2481      0.066     -3.742      0.000      -0.378      -0.118\n",
      "G              0.0065      0.012      0.559      0.576      -0.016       0.029\n",
      "Lg            -1.6938      0.898     -1.885      0.060      -3.458       0.070\n",
      "1B            -3.5189      0.169    -20.782      0.000      -3.851      -3.186\n",
      "HR             1.2811      0.154      8.307      0.000       0.978       1.584\n",
      "Barrels        0.0910      0.042      2.187      0.029       0.009       0.173\n",
      "GB            -0.1868      0.063     -2.968      0.003      -0.310      -0.063\n",
      "BB             0.0185      0.052      0.357      0.721      -0.083       0.120\n",
      "SO            -2.4996      0.149    -16.805      0.000      -2.792      -2.208\n",
      "RAR            0.1945      0.418      0.465      0.642      -0.626       1.015\n",
      "WAR           -0.5316      4.138     -0.128      0.898      -8.657       7.594\n",
      "IFH            0.1745      0.055      3.175      0.002       0.067       0.282\n",
      "K%+           -0.0006      0.005     -0.113      0.910      -0.010       0.009\n",
      "CSW%          -0.9739      2.446     -0.398      0.691      -5.775       3.828\n",
      "-WPA           1.0177      0.295      3.455      0.001       0.439       1.596\n",
      "==============================================================================\n",
      "Omnibus:                      244.607   Durbin-Watson:                   2.000\n",
      "Prob(Omnibus):                  0.000   Jarque-Bera (JB):             2181.712\n",
      "Skew:                           1.239   Prob(JB):                         0.00\n",
      "Kurtosis:                      11.087   Cond. No.                     4.20e+15\n",
      "==============================================================================\n",
      "\n",
      "Notes:\n",
      "[1] R² is computed without centering (uncentered) since the model does not contain a constant.\n",
      "[2] Standard Errors assume that the covariance matrix of the errors is correctly specified.\n",
      "[3] The smallest eigenvalue is 1.15e-22. This might indicate that there are\n",
      "strong multicollinearity problems or that the design matrix is singular.\n"
     ]
    }
   ],
   "source": [
    "# Time for regression\n",
    "y = batters[\"Points\"]\n",
    "x = batters[reg_variables]\n",
    "bat_model = sm.OLS(y,x)\n",
    "bat_residuals = bat_model.fit()\n",
    "\n",
    "print(bat_residuals.summary())"
   ]
  },
  {
   "cell_type": "markdown",
   "id": "abc5487e-f78d-4c4a-a1d2-778c55997972",
   "metadata": {},
   "source": [
    "As expected, the model is perfectly fit. That's pretty useless, and we already know the exact contribution of the stats that Yahoo already assigns a value to, so let's drop them from the model so we may discover stats that have predictive value that aren't already measured"
   ]
  },
  {
   "cell_type": "code",
   "execution_count": 43,
   "id": "056a8ee1-80ed-4efc-a0f6-f0621174ebd4",
   "metadata": {},
   "outputs": [
    {
     "name": "stdout",
     "output_type": "stream",
     "text": [
      "                                 OLS Regression Results                                \n",
      "=======================================================================================\n",
      "Dep. Variable:                 Points   R-squared (uncentered):                   0.998\n",
      "Model:                            OLS   Adj. R-squared (uncentered):              0.998\n",
      "Method:                 Least Squares   F-statistic:                          1.387e+04\n",
      "Date:                Thu, 16 Dec 2021   Prob (F-statistic):                        0.00\n",
      "Time:                        23:05:26   Log-Likelihood:                         -2965.6\n",
      "No. Observations:                 732   AIC:                                      5977.\n",
      "Df Residuals:                     709   BIC:                                      6083.\n",
      "Df Model:                          23                                                  \n",
      "Covariance Type:            nonrobust                                                  \n",
      "==============================================================================\n",
      "                 coef    std err          t      P>|t|      [0.025      0.975]\n",
      "------------------------------------------------------------------------------\n",
      "wRC            3.7987      0.164     23.179      0.000       3.477       4.120\n",
      "+WPA           6.4504      0.959      6.723      0.000       4.567       8.334\n",
      "HardHit       -0.0218      0.060     -0.365      0.715      -0.139       0.095\n",
      "PA             0.4037      0.588      0.687      0.492      -0.750       1.558\n",
      "Rep          -19.4577     18.349     -1.060      0.289     -55.483      16.568\n",
      "Pitches       -0.0060      0.007     -0.852      0.395      -0.020       0.008\n",
      "AB            -0.9192      0.307     -2.999      0.003      -1.521      -0.317\n",
      "Strikes        0.0020      0.017      0.120      0.904      -0.031       0.035\n",
      "Balls         -0.0080      0.017     -0.485      0.628      -0.041       0.025\n",
      "Events         0.9613      0.277      3.466      0.001       0.417       1.506\n",
      "FB             1.0005      0.243      4.121      0.000       0.524       1.477\n",
      "LD             0.4894      0.267      1.830      0.068      -0.036       1.014\n",
      "G              0.0791      0.049      1.612      0.107      -0.017       0.175\n",
      "Lg             0.0362      3.755      0.010      0.992      -7.336       7.408\n",
      "1B            -1.2329      0.125     -9.886      0.000      -1.478      -0.988\n",
      "Barrels        0.8422      0.160      5.267      0.000       0.528       1.156\n",
      "GB             0.8682      0.254      3.418      0.001       0.369       1.367\n",
      "SO             1.2941      0.347      3.734      0.000       0.614       1.974\n",
      "RAR            0.3780      1.778      0.213      0.832      -3.113       3.869\n",
      "WAR            0.5687     17.622      0.032      0.974     -34.028      35.166\n",
      "IFH            0.4515      0.229      1.967      0.050       0.001       0.902\n",
      "K%+            0.0219      0.021      1.023      0.307      -0.020       0.064\n",
      "CSW%         -13.9707     10.443     -1.338      0.181     -34.474       6.532\n",
      "-WPA           5.0612      1.238      4.087      0.000       2.630       7.493\n",
      "==============================================================================\n",
      "Omnibus:                       64.996   Durbin-Watson:                   1.984\n",
      "Prob(Omnibus):                  0.000   Jarque-Bera (JB):              365.979\n",
      "Skew:                          -0.038   Prob(JB):                     3.38e-80\n",
      "Kurtosis:                       6.463   Cond. No.                     4.86e+15\n",
      "==============================================================================\n",
      "\n",
      "Notes:\n",
      "[1] R² is computed without centering (uncentered) since the model does not contain a constant.\n",
      "[2] Standard Errors assume that the covariance matrix of the errors is correctly specified.\n",
      "[3] The smallest eigenvalue is 8.54e-23. This might indicate that there are\n",
      "strong multicollinearity problems or that the design matrix is singular.\n"
     ]
    }
   ],
   "source": [
    "y = batters[\"Points\"]\n",
    "\n",
    "reg_variables0 = reg_variables\n",
    "reg_variables0.remove(\"R\")\n",
    "reg_variables0.remove(\"H\")\n",
    "reg_variables0.remove(\"2B\")\n",
    "reg_variables0.remove(\"HR\")\n",
    "reg_variables0.remove(\"RBI\")\n",
    "reg_variables0.remove(\"BB\")\n",
    "\n",
    "x = batters[reg_variables0]\n",
    "bat_model = sm.OLS(y,x)\n",
    "bat_residuals = bat_model.fit()\n",
    "\n",
    "print(bat_residuals.summary())"
   ]
  },
  {
   "cell_type": "markdown",
   "id": "b1a9ca14-b6dd-49e1-819e-be41956e97b6",
   "metadata": {},
   "source": [
    "That's still an uncomfortably high $R^2_{adj}$. Let's start removing non-significant ($p\\geq0.05$) variables from the model and see how it responds."
   ]
  },
  {
   "cell_type": "code",
   "execution_count": 44,
   "id": "a3e15400-5beb-44ac-92f8-d75d3e0c5f78",
   "metadata": {},
   "outputs": [
    {
     "name": "stdout",
     "output_type": "stream",
     "text": [
      "                                 OLS Regression Results                                \n",
      "=======================================================================================\n",
      "Dep. Variable:                 Points   R-squared (uncentered):                   0.998\n",
      "Model:                            OLS   Adj. R-squared (uncentered):              0.998\n",
      "Method:                 Least Squares   F-statistic:                          2.988e+04\n",
      "Date:                Thu, 16 Dec 2021   Prob (F-statistic):                        0.00\n",
      "Time:                        23:11:04   Log-Likelihood:                         -2996.1\n",
      "No. Observations:                 732   AIC:                                      6012.\n",
      "Df Residuals:                     722   BIC:                                      6058.\n",
      "Df Model:                          10                                                  \n",
      "Covariance Type:            nonrobust                                                  \n",
      "==============================================================================\n",
      "                 coef    std err          t      P>|t|      [0.025      0.975]\n",
      "------------------------------------------------------------------------------\n",
      "wRC            3.8147      0.106     35.949      0.000       3.606       4.023\n",
      "+WPA           6.9790      0.970      7.195      0.000       5.075       8.883\n",
      "AB            -0.5635      0.239     -2.353      0.019      -1.034      -0.093\n",
      "Events         0.8051      0.229      3.515      0.000       0.355       1.255\n",
      "FB             0.6132      0.099      6.212      0.000       0.419       0.807\n",
      "1B            -0.9413      0.110     -8.523      0.000      -1.158      -0.724\n",
      "Barrels        0.9454      0.118      8.004      0.000       0.714       1.177\n",
      "GB             0.4136      0.087      4.738      0.000       0.242       0.585\n",
      "SO             0.7028      0.237      2.965      0.003       0.237       1.168\n",
      "-WPA           7.4738      1.217      6.143      0.000       5.085       9.862\n",
      "==============================================================================\n",
      "Omnibus:                       66.459   Durbin-Watson:                   1.980\n",
      "Prob(Omnibus):                  0.000   Jarque-Bera (JB):              381.252\n",
      "Skew:                           0.061   Prob(JB):                     1.63e-83\n",
      "Kurtosis:                       6.533   Cond. No.                         932.\n",
      "==============================================================================\n",
      "\n",
      "Notes:\n",
      "[1] R² is computed without centering (uncentered) since the model does not contain a constant.\n",
      "[2] Standard Errors assume that the covariance matrix of the errors is correctly specified.\n"
     ]
    }
   ],
   "source": [
    "y = batters[\"Points\"]\n",
    "\n",
    "reg_variables1 = reg_variables0\n",
    "reg_variables1.remove(\"HardHit\")\n",
    "reg_variables1.remove(\"PA\")\n",
    "reg_variables1.remove(\"Rep\")\n",
    "reg_variables1.remove(\"Pitches\")\n",
    "reg_variables1.remove(\"Strikes\")\n",
    "reg_variables1.remove(\"Balls\")\n",
    "reg_variables1.remove(\"LD\")\n",
    "reg_variables1.remove(\"G\")\n",
    "reg_variables1.remove(\"Lg\")\n",
    "reg_variables1.remove(\"RAR\")\n",
    "reg_variables1.remove(\"WAR\")\n",
    "reg_variables1.remove(\"IFH\")\n",
    "reg_variables1.remove(\"K%+\")\n",
    "reg_variables1.remove(\"CSW%\")\n",
    "\n",
    "x = batters[reg_variables1]\n",
    "bat_model = sm.OLS(y,x)\n",
    "bat_residuals = bat_model.fit()\n",
    "\n",
    "print(bat_residuals.summary())"
   ]
  },
  {
   "cell_type": "code",
   "execution_count": null,
   "id": "9b6cc816-7cb7-4c54-88e1-2a950f01a6c7",
   "metadata": {},
   "outputs": [],
   "source": []
  }
 ],
 "metadata": {
  "kernelspec": {
   "display_name": "Python 3 (ipykernel)",
   "language": "python",
   "name": "python3"
  },
  "language_info": {
   "codemirror_mode": {
    "name": "ipython",
    "version": 3
   },
   "file_extension": ".py",
   "mimetype": "text/x-python",
   "name": "python",
   "nbconvert_exporter": "python",
   "pygments_lexer": "ipython3",
   "version": "3.8.12"
  }
 },
 "nbformat": 4,
 "nbformat_minor": 5
}
