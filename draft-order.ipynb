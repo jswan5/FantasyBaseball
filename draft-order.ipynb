{
 "cells": [
  {
   "cell_type": "markdown",
   "metadata": {},
   "source": [
    "## Determining Fantasy Baseball Draft Order\n",
    "\n",
    "I feel like I've been victimized by the \"randomness\" of the previous processes to determine draft order, so instead of blaming my failures at winning fantasy baseball on my strategy, I choose to believe it's the process we use to generate the random numbers for determining draft pick order. This is an attempt to use a more robust form of generating random numbers that theoretically is also the most fair method. Most software implementations (Microsoft Excel, Google Sheets, base Python) use a method that appears random, but actually isn't.\n",
    "\n",
    "### Different Types of Randomness\n",
    "Computers are actually incapable of generating *truly* random numbers. They can often create something approaching random (*pseudo*-random), which is usually good enough for most purposes (probably even this one), but I'm the one complaining so I'll put in the work to implement a \"more\" random method: a [cryptographically secure pseudo-random number generator](https://en.wikipedia.org/wiki/Cryptographically_secure_pseudorandom_number_generator) (CSPRNG). A CSPRNG generates random numbers using a process that is not repeatable nor reversible, which is necessary for cryptography, and definitely overkill for our purposes.\n",
    "\n",
    "### The Odds\n",
    "The Championship winner (It Burns when I Pete) and runner-up (Honey Nut Ichiros) get 12th and 11th pick, respectively. \n",
    "\n",
    "The rest of the order is randomly assigned using the following chances of first pick:\n",
    "\n",
    "Finish | Team | Odds\n",
    "-|-|-\n",
    "12th | Non-Fungible Torkelsons | 33.00 %\n",
    "11th | Jellicle Cats | 22.00 %\n",
    "10th | Calvin Klein Defy | 15.00 %\n",
    "9th | Get Lowe | 10.00 %\n",
    "8th | Giancarlo for Mayor | 6.50 %\n",
    "7th | Donaldson's Man Bun | 5.50 %\n",
    "6th | RBI'd for Pleasure | 3.50 %\n",
    "5th | Monster Dongs | 2.50 %\n",
    "4th | Jose Can You See | 1.50 %\n",
    "3rd | Montana Wildhacks | 0.50 %"
   ]
  },
  {
   "cell_type": "markdown",
   "metadata": {},
   "source": [
    "### Methodology\n",
    "\n",
    "To reduce errors with small sample sizes, 1,000,000 balls will be entered into the draw. Each team will have a number of balls equal to their percentage, i.e. Non-Fungible Torkelsons receives 330,000 entries. The first ball gets the first pick, simple enough. The second ball drawn (and all subsequent balls), if it does not belong to a team already picked, chooses the next pick. Balls belonging to teams already chosen are technically put back into the pool, but it doesn't really affect anything with this methodology. This process continues until all teams are assigned draft positions.\n",
    "\n",
    "Now the code:"
   ]
  },
  {
   "cell_type": "code",
   "execution_count": 1,
   "metadata": {},
   "outputs": [
    {
     "data": {
      "text/plain": [
       "Non-Fungible Torkelsons    330000\n",
       "Jellicle Cats              220000\n",
       "Calvin Klein Defy          150000\n",
       "Get Lowe                   100000\n",
       "Giancarlo for Mayor         65000\n",
       "Donaldson's Man Bun         55000\n",
       "RBI'd for Pleasure          35000\n",
       "Monster Dongs               25000\n",
       "Jose Can You See            15000\n",
       "Montana Wildhacks            5000\n",
       "dtype: int64"
      ]
     },
     "execution_count": 1,
     "metadata": {},
     "output_type": "execute_result"
    }
   ],
   "source": [
    "# Import libraries\n",
    "import pandas as pd\n",
    "import secrets\n",
    "\n",
    "# Setup dictionary with percentages, as above\n",
    "percs = {'Non-Fungible Torkelsons': 330_000,\n",
    "         'Jellicle Cats': 220_000,\n",
    "         'Calvin Klein Defy': 150_000,\n",
    "         'Get Lowe': 100_000,\n",
    "         'Giancarlo for Mayor': 65_000,\n",
    "         \"Donaldson's Man Bun\": 55_000,\n",
    "         \"RBI'd for Pleasure\": 35_000,\n",
    "         'Monster Dongs': 25_000,\n",
    "         'Jose Can You See': 15_000,\n",
    "         'Montana Wildhacks': 5_000}\n",
    "\n",
    "# Create dataframe of balls with names\n",
    "balls = pd.Series(dtype='str')\n",
    "for i in percs:\n",
    "    temp = pd.Series(i, index=range(percs[i]))\n",
    "    balls = pd.concat([balls, temp], axis=0).reset_index(drop=True)\n",
    "\n",
    "# Shuffle the dataframe for peace of mind\n",
    "balls = balls.sample(frac=1, replace=False).reset_index(drop=True)\n",
    "\n",
    "# Verify the counts\n",
    "balls.value_counts()    "
   ]
  },
  {
   "cell_type": "markdown",
   "metadata": {},
   "source": [
    "## Let's Do It\n",
    "\n",
    "Now without further ado, the part of the code that actually does the picking.\n",
    "\n",
    "The steps are:\n",
    "1. Create empty list\n",
    "1. Randomly choose a ball from the 1 million balls (using the CSPRNG), and add that name to the list\n",
    "1. Randomly choose another ball and check if the name is in the list already\n",
    "    1. If the name is already in the list, skip\n",
    "    1. If the name is *not* in the list, add to end of list\n",
    "1. Pick again until list is full\n",
    "\n",
    "We also can count how many balls were picked before the list was complete."
   ]
  },
  {
   "cell_type": "code",
   "execution_count": 2,
   "metadata": {},
   "outputs": [
    {
     "data": {
      "text/plain": [
       "['Jellicle Cats',\n",
       " 'Non-Fungible Torkelsons',\n",
       " 'Giancarlo for Mayor',\n",
       " 'Get Lowe',\n",
       " 'Calvin Klein Defy',\n",
       " \"Donaldson's Man Bun\",\n",
       " \"RBI'd for Pleasure\",\n",
       " 'Monster Dongs',\n",
       " 'Jose Can You See',\n",
       " 'Montana Wildhacks']"
      ]
     },
     "metadata": {},
     "output_type": "display_data"
    },
    {
     "name": "stdout",
     "output_type": "stream",
     "text": [
      "\n",
      " After 146 balls\n"
     ]
    }
   ],
   "source": [
    "order = []\n",
    "count = 0\n",
    "while len(order) < 10:\n",
    "    pick = secrets.choice(balls)\n",
    "    if pick in order:\n",
    "        pass\n",
    "    else:\n",
    "        order.append(pick)\n",
    "    count += 1\n",
    "display(order)\n",
    "print('\\n', f'After {count} balls')"
   ]
  },
  {
   "cell_type": "code",
   "execution_count": null,
   "metadata": {},
   "outputs": [],
   "source": []
  }
 ],
 "metadata": {
  "kernelspec": {
   "display_name": "Python 3 (ipykernel)",
   "language": "python",
   "name": "python3"
  },
  "language_info": {
   "codemirror_mode": {
    "name": "ipython",
    "version": 3
   },
   "file_extension": ".py",
   "mimetype": "text/x-python",
   "name": "python",
   "nbconvert_exporter": "python",
   "pygments_lexer": "ipython3",
   "version": "3.8.12"
  },
  "vscode": {
   "interpreter": {
    "hash": "01cefc85e0c90c3795a191bf95b93d898e338d4e8f8d4e7d22ab74a006ee8b2e"
   }
  }
 },
 "nbformat": 4,
 "nbformat_minor": 4
}
